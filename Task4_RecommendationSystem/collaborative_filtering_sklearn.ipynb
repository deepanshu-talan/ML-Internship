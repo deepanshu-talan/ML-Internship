{
 "cells": [
  {
   "cell_type": "code",
   "execution_count": 1,
   "metadata": {},
   "outputs": [
    {
     "name": "stdout",
     "output_type": "stream",
     "text": [
      "Top Movie Recommendations for User 1:\n",
      "      movieId                                        title\n",
      "695       913                   Maltese Falcon, The (1941)\n",
      "809      1059  William Shakespeare's Romeo + Juliet (1996)\n",
      "1711     2300                        Producers, The (1968)\n",
      "2308     3060                      Commitments, The (1991)\n",
      "2562     3429                     Creature Comforts (1989)\n"
     ]
    }
   ],
   "source": [
    "# Step 1: Import Libraries\n",
    "import pandas as pd\n",
    "from sklearn.decomposition import TruncatedSVD\n",
    "from sklearn.metrics.pairwise import cosine_similarity\n",
    "import numpy as np\n",
    "\n",
    "# Step 2: Load Data\n",
    "movies = pd.read_csv('movies.csv')\n",
    "ratings = pd.read_csv('ratings.csv')\n",
    "\n",
    "# Step 3: Create User-Item Matrix\n",
    "user_movie_matrix = ratings.pivot(index='userId', columns='movieId', values='rating').fillna(0)\n",
    "\n",
    "# Step 4: Apply Matrix Factorization (SVD)\n",
    "svd = TruncatedSVD(n_components=20, random_state=42)\n",
    "matrix_reduced = svd.fit_transform(user_movie_matrix)\n",
    "\n",
    "# Step 5: Compute Similarity Between Users\n",
    "similarity = cosine_similarity(matrix_reduced)\n",
    "\n",
    "# Step 6: Get Recommendations for a User\n",
    "def recommend_movies(user_id, user_movie_matrix, movies, similarity_matrix, n=5):\n",
    "    user_index = user_id - 1  # Because userId starts from 1\n",
    "    similar_users = list(enumerate(similarity_matrix[user_index]))\n",
    "    similar_users = sorted(similar_users, key=lambda x: x[1], reverse=True)[1:11]\n",
    "\n",
    "    weighted_ratings = np.zeros(user_movie_matrix.shape[1])\n",
    "    similarity_sum = np.zeros(user_movie_matrix.shape[1])\n",
    "\n",
    "    for other_index, score in similar_users:\n",
    "        weighted_ratings += user_movie_matrix.iloc[other_index].values * score\n",
    "        similarity_sum += (user_movie_matrix.iloc[other_index].values > 0) * score\n",
    "\n",
    "    scores = weighted_ratings / np.where(similarity_sum == 0, 1, similarity_sum)\n",
    "\n",
    "    already_rated = user_movie_matrix.iloc[user_index].values > 0\n",
    "    scores[already_rated] = 0\n",
    "\n",
    "    top_indices = np.argsort(scores)[-n:][::-1]\n",
    "    movie_ids = user_movie_matrix.columns[top_indices]\n",
    "\n",
    "    return movies[movies['movieId'].isin(movie_ids)][['movieId', 'title']]\n",
    "\n",
    "# Step 7: Recommend Movies for User 1\n",
    "recommendations = recommend_movies(1, user_movie_matrix, movies, similarity)\n",
    "print(\"Top Movie Recommendations for User 1:\")\n",
    "print(recommendations)\n"
   ]
  }
 ],
 "metadata": {
  "kernelspec": {
   "display_name": "Python 3",
   "language": "python",
   "name": "python3"
  },
  "language_info": {
   "codemirror_mode": {
    "name": "ipython",
    "version": 3
   },
   "file_extension": ".py",
   "mimetype": "text/x-python",
   "name": "python",
   "nbconvert_exporter": "python",
   "pygments_lexer": "ipython3",
   "version": "3.9.6"
  }
 },
 "nbformat": 4,
 "nbformat_minor": 5
}
